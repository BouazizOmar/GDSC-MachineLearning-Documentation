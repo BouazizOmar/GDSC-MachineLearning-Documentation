{
 "cells": [
  {
   "cell_type": "code",
   "execution_count": 1,
   "id": "deac4879",
   "metadata": {
    "_cell_guid": "b1076dfc-b9ad-4769-8c92-a6c4dae69d19",
    "_uuid": "8f2839f25d086af736a60e9eeb907d3b93b6e0e5",
    "execution": {
     "iopub.execute_input": "2023-11-30T20:55:56.343050Z",
     "iopub.status.busy": "2023-11-30T20:55:56.341965Z",
     "iopub.status.idle": "2023-11-30T20:55:57.901889Z",
     "shell.execute_reply": "2023-11-30T20:55:57.900511Z"
    },
    "papermill": {
     "duration": 1.575457,
     "end_time": "2023-11-30T20:55:57.904339",
     "exception": false,
     "start_time": "2023-11-30T20:55:56.328882",
     "status": "completed"
    },
    "tags": []
   },
   "outputs": [],
   "source": [
    "import pandas as pd\n",
    "import numpy as np\n",
    "import seaborn as sns\n",
    "import matplotlib.pyplot as plt\n",
    "import warnings\n",
    "%matplotlib inline\n",
    "warnings.filterwarnings('ignore')"
   ]
  },
  {
   "cell_type": "code",
   "execution_count": 2,
   "id": "c4bd7bad",
   "metadata": {
    "execution": {
     "iopub.execute_input": "2023-11-30T20:55:57.927522Z",
     "iopub.status.busy": "2023-11-30T20:55:57.927048Z",
     "iopub.status.idle": "2023-11-30T20:55:58.748708Z",
     "shell.execute_reply": "2023-11-30T20:55:58.747619Z"
    },
    "papermill": {
     "duration": 0.835734,
     "end_time": "2023-11-30T20:55:58.750959",
     "exception": false,
     "start_time": "2023-11-30T20:55:57.915225",
     "status": "completed"
    },
    "tags": []
   },
   "outputs": [],
   "source": [
    "data =pd.read_csv(\"/kaggle/input/black-friday-sales-prediction/train.csv\")"
   ]
  },
  {
   "cell_type": "code",
   "execution_count": 3,
   "id": "88a3c49e",
   "metadata": {
    "execution": {
     "iopub.execute_input": "2023-11-30T20:55:58.774297Z",
     "iopub.status.busy": "2023-11-30T20:55:58.773920Z",
     "iopub.status.idle": "2023-11-30T20:55:58.805627Z",
     "shell.execute_reply": "2023-11-30T20:55:58.804074Z"
    },
    "papermill": {
     "duration": 0.046628,
     "end_time": "2023-11-30T20:55:58.808220",
     "exception": false,
     "start_time": "2023-11-30T20:55:58.761592",
     "status": "completed"
    },
    "tags": []
   },
   "outputs": [
    {
     "data": {
      "text/html": [
       "<div>\n",
       "<style scoped>\n",
       "    .dataframe tbody tr th:only-of-type {\n",
       "        vertical-align: middle;\n",
       "    }\n",
       "\n",
       "    .dataframe tbody tr th {\n",
       "        vertical-align: top;\n",
       "    }\n",
       "\n",
       "    .dataframe thead th {\n",
       "        text-align: right;\n",
       "    }\n",
       "</style>\n",
       "<table border=\"1\" class=\"dataframe\">\n",
       "  <thead>\n",
       "    <tr style=\"text-align: right;\">\n",
       "      <th></th>\n",
       "      <th>User_ID</th>\n",
       "      <th>Product_ID</th>\n",
       "      <th>Gender</th>\n",
       "      <th>Age</th>\n",
       "      <th>Occupation</th>\n",
       "      <th>City_Category</th>\n",
       "      <th>Stay_In_Current_City_Years</th>\n",
       "      <th>Marital_Status</th>\n",
       "      <th>Product_Category_1</th>\n",
       "      <th>Product_Category_2</th>\n",
       "      <th>Product_Category_3</th>\n",
       "      <th>Purchase</th>\n",
       "    </tr>\n",
       "  </thead>\n",
       "  <tbody>\n",
       "    <tr>\n",
       "      <th>0</th>\n",
       "      <td>1000001</td>\n",
       "      <td>P00069042</td>\n",
       "      <td>F</td>\n",
       "      <td>0-17</td>\n",
       "      <td>10</td>\n",
       "      <td>A</td>\n",
       "      <td>2</td>\n",
       "      <td>0</td>\n",
       "      <td>3</td>\n",
       "      <td>NaN</td>\n",
       "      <td>NaN</td>\n",
       "      <td>8370</td>\n",
       "    </tr>\n",
       "    <tr>\n",
       "      <th>1</th>\n",
       "      <td>1000001</td>\n",
       "      <td>P00248942</td>\n",
       "      <td>F</td>\n",
       "      <td>0-17</td>\n",
       "      <td>10</td>\n",
       "      <td>A</td>\n",
       "      <td>2</td>\n",
       "      <td>0</td>\n",
       "      <td>1</td>\n",
       "      <td>6.0</td>\n",
       "      <td>14.0</td>\n",
       "      <td>15200</td>\n",
       "    </tr>\n",
       "    <tr>\n",
       "      <th>2</th>\n",
       "      <td>1000001</td>\n",
       "      <td>P00087842</td>\n",
       "      <td>F</td>\n",
       "      <td>0-17</td>\n",
       "      <td>10</td>\n",
       "      <td>A</td>\n",
       "      <td>2</td>\n",
       "      <td>0</td>\n",
       "      <td>12</td>\n",
       "      <td>NaN</td>\n",
       "      <td>NaN</td>\n",
       "      <td>1422</td>\n",
       "    </tr>\n",
       "    <tr>\n",
       "      <th>3</th>\n",
       "      <td>1000001</td>\n",
       "      <td>P00085442</td>\n",
       "      <td>F</td>\n",
       "      <td>0-17</td>\n",
       "      <td>10</td>\n",
       "      <td>A</td>\n",
       "      <td>2</td>\n",
       "      <td>0</td>\n",
       "      <td>12</td>\n",
       "      <td>14.0</td>\n",
       "      <td>NaN</td>\n",
       "      <td>1057</td>\n",
       "    </tr>\n",
       "    <tr>\n",
       "      <th>4</th>\n",
       "      <td>1000002</td>\n",
       "      <td>P00285442</td>\n",
       "      <td>M</td>\n",
       "      <td>55+</td>\n",
       "      <td>16</td>\n",
       "      <td>C</td>\n",
       "      <td>4+</td>\n",
       "      <td>0</td>\n",
       "      <td>8</td>\n",
       "      <td>NaN</td>\n",
       "      <td>NaN</td>\n",
       "      <td>7969</td>\n",
       "    </tr>\n",
       "  </tbody>\n",
       "</table>\n",
       "</div>"
      ],
      "text/plain": [
       "   User_ID Product_ID Gender   Age  Occupation City_Category  \\\n",
       "0  1000001  P00069042      F  0-17          10             A   \n",
       "1  1000001  P00248942      F  0-17          10             A   \n",
       "2  1000001  P00087842      F  0-17          10             A   \n",
       "3  1000001  P00085442      F  0-17          10             A   \n",
       "4  1000002  P00285442      M   55+          16             C   \n",
       "\n",
       "  Stay_In_Current_City_Years  Marital_Status  Product_Category_1  \\\n",
       "0                          2               0                   3   \n",
       "1                          2               0                   1   \n",
       "2                          2               0                  12   \n",
       "3                          2               0                  12   \n",
       "4                         4+               0                   8   \n",
       "\n",
       "   Product_Category_2  Product_Category_3  Purchase  \n",
       "0                 NaN                 NaN      8370  \n",
       "1                 6.0                14.0     15200  \n",
       "2                 NaN                 NaN      1422  \n",
       "3                14.0                 NaN      1057  \n",
       "4                 NaN                 NaN      7969  "
      ]
     },
     "execution_count": 3,
     "metadata": {},
     "output_type": "execute_result"
    }
   ],
   "source": [
    "data.head()"
   ]
  },
  {
   "cell_type": "code",
   "execution_count": null,
   "id": "6b8df509",
   "metadata": {
    "papermill": {
     "duration": 0.01036,
     "end_time": "2023-11-30T20:55:58.829371",
     "exception": false,
     "start_time": "2023-11-30T20:55:58.819011",
     "status": "completed"
    },
    "tags": []
   },
   "outputs": [],
   "source": []
  },
  {
   "cell_type": "code",
   "execution_count": 4,
   "id": "6f6b9dd4",
   "metadata": {
    "execution": {
     "iopub.execute_input": "2023-11-30T20:55:58.852066Z",
     "iopub.status.busy": "2023-11-30T20:55:58.851689Z",
     "iopub.status.idle": "2023-11-30T20:55:58.861394Z",
     "shell.execute_reply": "2023-11-30T20:55:58.859964Z"
    },
    "papermill": {
     "duration": 0.024019,
     "end_time": "2023-11-30T20:55:58.863783",
     "exception": false,
     "start_time": "2023-11-30T20:55:58.839764",
     "status": "completed"
    },
    "tags": []
   },
   "outputs": [
    {
     "data": {
      "text/plain": [
       "0          8370\n",
       "1         15200\n",
       "2          1422\n",
       "3          1057\n",
       "4          7969\n",
       "          ...  \n",
       "550063      368\n",
       "550064      371\n",
       "550065      137\n",
       "550066      365\n",
       "550067      490\n",
       "Name: Purchase, Length: 550068, dtype: int64"
      ]
     },
     "execution_count": 4,
     "metadata": {},
     "output_type": "execute_result"
    }
   ],
   "source": [
    "data['Purchase']"
   ]
  },
  {
   "cell_type": "code",
   "execution_count": 5,
   "id": "0ae3f05b",
   "metadata": {
    "execution": {
     "iopub.execute_input": "2023-11-30T20:55:58.889021Z",
     "iopub.status.busy": "2023-11-30T20:55:58.888591Z",
     "iopub.status.idle": "2023-11-30T20:55:58.903889Z",
     "shell.execute_reply": "2023-11-30T20:55:58.902853Z"
    },
    "papermill": {
     "duration": 0.03024,
     "end_time": "2023-11-30T20:55:58.906395",
     "exception": false,
     "start_time": "2023-11-30T20:55:58.876155",
     "status": "completed"
    },
    "tags": []
   },
   "outputs": [
    {
     "data": {
      "text/html": [
       "<div>\n",
       "<style scoped>\n",
       "    .dataframe tbody tr th:only-of-type {\n",
       "        vertical-align: middle;\n",
       "    }\n",
       "\n",
       "    .dataframe tbody tr th {\n",
       "        vertical-align: top;\n",
       "    }\n",
       "\n",
       "    .dataframe thead th {\n",
       "        text-align: right;\n",
       "    }\n",
       "</style>\n",
       "<table border=\"1\" class=\"dataframe\">\n",
       "  <thead>\n",
       "    <tr style=\"text-align: right;\">\n",
       "      <th></th>\n",
       "      <th>User_ID</th>\n",
       "      <th>Product_ID</th>\n",
       "      <th>Gender</th>\n",
       "      <th>Age</th>\n",
       "      <th>Occupation</th>\n",
       "      <th>City_Category</th>\n",
       "      <th>Stay_In_Current_City_Years</th>\n",
       "      <th>Marital_Status</th>\n",
       "      <th>Product_Category_1</th>\n",
       "      <th>Product_Category_2</th>\n",
       "      <th>Product_Category_3</th>\n",
       "      <th>Purchase</th>\n",
       "    </tr>\n",
       "  </thead>\n",
       "  <tbody>\n",
       "    <tr>\n",
       "      <th>550063</th>\n",
       "      <td>1006033</td>\n",
       "      <td>P00372445</td>\n",
       "      <td>M</td>\n",
       "      <td>51-55</td>\n",
       "      <td>13</td>\n",
       "      <td>B</td>\n",
       "      <td>1</td>\n",
       "      <td>1</td>\n",
       "      <td>20</td>\n",
       "      <td>NaN</td>\n",
       "      <td>NaN</td>\n",
       "      <td>368</td>\n",
       "    </tr>\n",
       "    <tr>\n",
       "      <th>550064</th>\n",
       "      <td>1006035</td>\n",
       "      <td>P00375436</td>\n",
       "      <td>F</td>\n",
       "      <td>26-35</td>\n",
       "      <td>1</td>\n",
       "      <td>C</td>\n",
       "      <td>3</td>\n",
       "      <td>0</td>\n",
       "      <td>20</td>\n",
       "      <td>NaN</td>\n",
       "      <td>NaN</td>\n",
       "      <td>371</td>\n",
       "    </tr>\n",
       "    <tr>\n",
       "      <th>550065</th>\n",
       "      <td>1006036</td>\n",
       "      <td>P00375436</td>\n",
       "      <td>F</td>\n",
       "      <td>26-35</td>\n",
       "      <td>15</td>\n",
       "      <td>B</td>\n",
       "      <td>4+</td>\n",
       "      <td>1</td>\n",
       "      <td>20</td>\n",
       "      <td>NaN</td>\n",
       "      <td>NaN</td>\n",
       "      <td>137</td>\n",
       "    </tr>\n",
       "    <tr>\n",
       "      <th>550066</th>\n",
       "      <td>1006038</td>\n",
       "      <td>P00375436</td>\n",
       "      <td>F</td>\n",
       "      <td>55+</td>\n",
       "      <td>1</td>\n",
       "      <td>C</td>\n",
       "      <td>2</td>\n",
       "      <td>0</td>\n",
       "      <td>20</td>\n",
       "      <td>NaN</td>\n",
       "      <td>NaN</td>\n",
       "      <td>365</td>\n",
       "    </tr>\n",
       "    <tr>\n",
       "      <th>550067</th>\n",
       "      <td>1006039</td>\n",
       "      <td>P00371644</td>\n",
       "      <td>F</td>\n",
       "      <td>46-50</td>\n",
       "      <td>0</td>\n",
       "      <td>B</td>\n",
       "      <td>4+</td>\n",
       "      <td>1</td>\n",
       "      <td>20</td>\n",
       "      <td>NaN</td>\n",
       "      <td>NaN</td>\n",
       "      <td>490</td>\n",
       "    </tr>\n",
       "  </tbody>\n",
       "</table>\n",
       "</div>"
      ],
      "text/plain": [
       "        User_ID Product_ID Gender    Age  Occupation City_Category  \\\n",
       "550063  1006033  P00372445      M  51-55          13             B   \n",
       "550064  1006035  P00375436      F  26-35           1             C   \n",
       "550065  1006036  P00375436      F  26-35          15             B   \n",
       "550066  1006038  P00375436      F    55+           1             C   \n",
       "550067  1006039  P00371644      F  46-50           0             B   \n",
       "\n",
       "       Stay_In_Current_City_Years  Marital_Status  Product_Category_1  \\\n",
       "550063                          1               1                  20   \n",
       "550064                          3               0                  20   \n",
       "550065                         4+               1                  20   \n",
       "550066                          2               0                  20   \n",
       "550067                         4+               1                  20   \n",
       "\n",
       "        Product_Category_2  Product_Category_3  Purchase  \n",
       "550063                 NaN                 NaN       368  \n",
       "550064                 NaN                 NaN       371  \n",
       "550065                 NaN                 NaN       137  \n",
       "550066                 NaN                 NaN       365  \n",
       "550067                 NaN                 NaN       490  "
      ]
     },
     "execution_count": 5,
     "metadata": {},
     "output_type": "execute_result"
    }
   ],
   "source": [
    "data.tail()"
   ]
  },
  {
   "cell_type": "code",
   "execution_count": 6,
   "id": "eb3e5ebe",
   "metadata": {
    "execution": {
     "iopub.execute_input": "2023-11-30T20:55:58.932535Z",
     "iopub.status.busy": "2023-11-30T20:55:58.932146Z",
     "iopub.status.idle": "2023-11-30T20:55:58.985522Z",
     "shell.execute_reply": "2023-11-30T20:55:58.984066Z"
    },
    "papermill": {
     "duration": 0.069418,
     "end_time": "2023-11-30T20:55:58.987603",
     "exception": false,
     "start_time": "2023-11-30T20:55:58.918185",
     "status": "completed"
    },
    "tags": []
   },
   "outputs": [
    {
     "data": {
      "text/plain": [
       "count     550068\n",
       "unique         5\n",
       "top            1\n",
       "freq      193821\n",
       "Name: Stay_In_Current_City_Years, dtype: object"
      ]
     },
     "execution_count": 6,
     "metadata": {},
     "output_type": "execute_result"
    }
   ],
   "source": [
    "data['Stay_In_Current_City_Years'].describe()"
   ]
  },
  {
   "cell_type": "code",
   "execution_count": 7,
   "id": "f39badab",
   "metadata": {
    "execution": {
     "iopub.execute_input": "2023-11-30T20:55:59.012892Z",
     "iopub.status.busy": "2023-11-30T20:55:59.012474Z",
     "iopub.status.idle": "2023-11-30T20:55:59.041808Z",
     "shell.execute_reply": "2023-11-30T20:55:59.040405Z"
    },
    "papermill": {
     "duration": 0.045282,
     "end_time": "2023-11-30T20:55:59.044533",
     "exception": false,
     "start_time": "2023-11-30T20:55:58.999251",
     "status": "completed"
    },
    "tags": []
   },
   "outputs": [
    {
     "data": {
      "text/plain": [
       "count    550068.000000\n",
       "mean       9263.968713\n",
       "std        5023.065394\n",
       "min          12.000000\n",
       "25%        5823.000000\n",
       "50%        8047.000000\n",
       "75%       12054.000000\n",
       "max       23961.000000\n",
       "Name: Purchase, dtype: float64"
      ]
     },
     "execution_count": 7,
     "metadata": {},
     "output_type": "execute_result"
    }
   ],
   "source": [
    "data['Purchase'].describe()"
   ]
  },
  {
   "cell_type": "code",
   "execution_count": 8,
   "id": "e9d34ff0",
   "metadata": {
    "execution": {
     "iopub.execute_input": "2023-11-30T20:55:59.070350Z",
     "iopub.status.busy": "2023-11-30T20:55:59.070012Z",
     "iopub.status.idle": "2023-11-30T20:55:59.077316Z",
     "shell.execute_reply": "2023-11-30T20:55:59.076205Z"
    },
    "papermill": {
     "duration": 0.023176,
     "end_time": "2023-11-30T20:55:59.080050",
     "exception": false,
     "start_time": "2023-11-30T20:55:59.056874",
     "status": "completed"
    },
    "tags": []
   },
   "outputs": [
    {
     "data": {
      "text/plain": [
       "['User_ID',\n",
       " 'Product_ID',\n",
       " 'Gender',\n",
       " 'Age',\n",
       " 'Occupation',\n",
       " 'City_Category',\n",
       " 'Stay_In_Current_City_Years',\n",
       " 'Marital_Status',\n",
       " 'Product_Category_1',\n",
       " 'Product_Category_2',\n",
       " 'Product_Category_3',\n",
       " 'Purchase']"
      ]
     },
     "execution_count": 8,
     "metadata": {},
     "output_type": "execute_result"
    }
   ],
   "source": [
    "data.columns.to_list()"
   ]
  },
  {
   "cell_type": "code",
   "execution_count": 9,
   "id": "889e1d32",
   "metadata": {
    "execution": {
     "iopub.execute_input": "2023-11-30T20:55:59.105012Z",
     "iopub.status.busy": "2023-11-30T20:55:59.104664Z",
     "iopub.status.idle": "2023-11-30T20:55:59.436270Z",
     "shell.execute_reply": "2023-11-30T20:55:59.435176Z"
    },
    "papermill": {
     "duration": 0.346305,
     "end_time": "2023-11-30T20:55:59.438223",
     "exception": false,
     "start_time": "2023-11-30T20:55:59.091918",
     "status": "completed"
    },
    "tags": []
   },
   "outputs": [
    {
     "data": {
      "text/html": [
       "<div>\n",
       "<style scoped>\n",
       "    .dataframe tbody tr th:only-of-type {\n",
       "        vertical-align: middle;\n",
       "    }\n",
       "\n",
       "    .dataframe tbody tr th {\n",
       "        vertical-align: top;\n",
       "    }\n",
       "\n",
       "    .dataframe thead th {\n",
       "        text-align: right;\n",
       "    }\n",
       "</style>\n",
       "<table border=\"1\" class=\"dataframe\">\n",
       "  <thead>\n",
       "    <tr style=\"text-align: right;\">\n",
       "      <th></th>\n",
       "      <th>User_ID</th>\n",
       "      <th>Product_ID</th>\n",
       "      <th>Gender</th>\n",
       "      <th>Age</th>\n",
       "      <th>Occupation</th>\n",
       "      <th>City_Category</th>\n",
       "      <th>Stay_In_Current_City_Years</th>\n",
       "      <th>Marital_Status</th>\n",
       "      <th>Product_Category_1</th>\n",
       "      <th>Product_Category_2</th>\n",
       "      <th>Product_Category_3</th>\n",
       "      <th>Purchase</th>\n",
       "    </tr>\n",
       "  </thead>\n",
       "  <tbody>\n",
       "    <tr>\n",
       "      <th>count</th>\n",
       "      <td>5.500680e+05</td>\n",
       "      <td>550068</td>\n",
       "      <td>550068</td>\n",
       "      <td>550068</td>\n",
       "      <td>550068.000000</td>\n",
       "      <td>550068</td>\n",
       "      <td>550068</td>\n",
       "      <td>550068.000000</td>\n",
       "      <td>550068.000000</td>\n",
       "      <td>376430.000000</td>\n",
       "      <td>166821.000000</td>\n",
       "      <td>550068.000000</td>\n",
       "    </tr>\n",
       "    <tr>\n",
       "      <th>unique</th>\n",
       "      <td>NaN</td>\n",
       "      <td>3631</td>\n",
       "      <td>2</td>\n",
       "      <td>7</td>\n",
       "      <td>NaN</td>\n",
       "      <td>3</td>\n",
       "      <td>5</td>\n",
       "      <td>NaN</td>\n",
       "      <td>NaN</td>\n",
       "      <td>NaN</td>\n",
       "      <td>NaN</td>\n",
       "      <td>NaN</td>\n",
       "    </tr>\n",
       "    <tr>\n",
       "      <th>top</th>\n",
       "      <td>NaN</td>\n",
       "      <td>P00265242</td>\n",
       "      <td>M</td>\n",
       "      <td>26-35</td>\n",
       "      <td>NaN</td>\n",
       "      <td>B</td>\n",
       "      <td>1</td>\n",
       "      <td>NaN</td>\n",
       "      <td>NaN</td>\n",
       "      <td>NaN</td>\n",
       "      <td>NaN</td>\n",
       "      <td>NaN</td>\n",
       "    </tr>\n",
       "    <tr>\n",
       "      <th>freq</th>\n",
       "      <td>NaN</td>\n",
       "      <td>1880</td>\n",
       "      <td>414259</td>\n",
       "      <td>219587</td>\n",
       "      <td>NaN</td>\n",
       "      <td>231173</td>\n",
       "      <td>193821</td>\n",
       "      <td>NaN</td>\n",
       "      <td>NaN</td>\n",
       "      <td>NaN</td>\n",
       "      <td>NaN</td>\n",
       "      <td>NaN</td>\n",
       "    </tr>\n",
       "    <tr>\n",
       "      <th>mean</th>\n",
       "      <td>1.003029e+06</td>\n",
       "      <td>NaN</td>\n",
       "      <td>NaN</td>\n",
       "      <td>NaN</td>\n",
       "      <td>8.076707</td>\n",
       "      <td>NaN</td>\n",
       "      <td>NaN</td>\n",
       "      <td>0.409653</td>\n",
       "      <td>5.404270</td>\n",
       "      <td>9.842329</td>\n",
       "      <td>12.668243</td>\n",
       "      <td>9263.968713</td>\n",
       "    </tr>\n",
       "    <tr>\n",
       "      <th>std</th>\n",
       "      <td>1.727592e+03</td>\n",
       "      <td>NaN</td>\n",
       "      <td>NaN</td>\n",
       "      <td>NaN</td>\n",
       "      <td>6.522660</td>\n",
       "      <td>NaN</td>\n",
       "      <td>NaN</td>\n",
       "      <td>0.491770</td>\n",
       "      <td>3.936211</td>\n",
       "      <td>5.086590</td>\n",
       "      <td>4.125338</td>\n",
       "      <td>5023.065394</td>\n",
       "    </tr>\n",
       "    <tr>\n",
       "      <th>min</th>\n",
       "      <td>1.000001e+06</td>\n",
       "      <td>NaN</td>\n",
       "      <td>NaN</td>\n",
       "      <td>NaN</td>\n",
       "      <td>0.000000</td>\n",
       "      <td>NaN</td>\n",
       "      <td>NaN</td>\n",
       "      <td>0.000000</td>\n",
       "      <td>1.000000</td>\n",
       "      <td>2.000000</td>\n",
       "      <td>3.000000</td>\n",
       "      <td>12.000000</td>\n",
       "    </tr>\n",
       "    <tr>\n",
       "      <th>25%</th>\n",
       "      <td>1.001516e+06</td>\n",
       "      <td>NaN</td>\n",
       "      <td>NaN</td>\n",
       "      <td>NaN</td>\n",
       "      <td>2.000000</td>\n",
       "      <td>NaN</td>\n",
       "      <td>NaN</td>\n",
       "      <td>0.000000</td>\n",
       "      <td>1.000000</td>\n",
       "      <td>5.000000</td>\n",
       "      <td>9.000000</td>\n",
       "      <td>5823.000000</td>\n",
       "    </tr>\n",
       "    <tr>\n",
       "      <th>50%</th>\n",
       "      <td>1.003077e+06</td>\n",
       "      <td>NaN</td>\n",
       "      <td>NaN</td>\n",
       "      <td>NaN</td>\n",
       "      <td>7.000000</td>\n",
       "      <td>NaN</td>\n",
       "      <td>NaN</td>\n",
       "      <td>0.000000</td>\n",
       "      <td>5.000000</td>\n",
       "      <td>9.000000</td>\n",
       "      <td>14.000000</td>\n",
       "      <td>8047.000000</td>\n",
       "    </tr>\n",
       "    <tr>\n",
       "      <th>75%</th>\n",
       "      <td>1.004478e+06</td>\n",
       "      <td>NaN</td>\n",
       "      <td>NaN</td>\n",
       "      <td>NaN</td>\n",
       "      <td>14.000000</td>\n",
       "      <td>NaN</td>\n",
       "      <td>NaN</td>\n",
       "      <td>1.000000</td>\n",
       "      <td>8.000000</td>\n",
       "      <td>15.000000</td>\n",
       "      <td>16.000000</td>\n",
       "      <td>12054.000000</td>\n",
       "    </tr>\n",
       "    <tr>\n",
       "      <th>max</th>\n",
       "      <td>1.006040e+06</td>\n",
       "      <td>NaN</td>\n",
       "      <td>NaN</td>\n",
       "      <td>NaN</td>\n",
       "      <td>20.000000</td>\n",
       "      <td>NaN</td>\n",
       "      <td>NaN</td>\n",
       "      <td>1.000000</td>\n",
       "      <td>20.000000</td>\n",
       "      <td>18.000000</td>\n",
       "      <td>18.000000</td>\n",
       "      <td>23961.000000</td>\n",
       "    </tr>\n",
       "  </tbody>\n",
       "</table>\n",
       "</div>"
      ],
      "text/plain": [
       "             User_ID Product_ID  Gender     Age     Occupation City_Category  \\\n",
       "count   5.500680e+05     550068  550068  550068  550068.000000        550068   \n",
       "unique           NaN       3631       2       7            NaN             3   \n",
       "top              NaN  P00265242       M   26-35            NaN             B   \n",
       "freq             NaN       1880  414259  219587            NaN        231173   \n",
       "mean    1.003029e+06        NaN     NaN     NaN       8.076707           NaN   \n",
       "std     1.727592e+03        NaN     NaN     NaN       6.522660           NaN   \n",
       "min     1.000001e+06        NaN     NaN     NaN       0.000000           NaN   \n",
       "25%     1.001516e+06        NaN     NaN     NaN       2.000000           NaN   \n",
       "50%     1.003077e+06        NaN     NaN     NaN       7.000000           NaN   \n",
       "75%     1.004478e+06        NaN     NaN     NaN      14.000000           NaN   \n",
       "max     1.006040e+06        NaN     NaN     NaN      20.000000           NaN   \n",
       "\n",
       "       Stay_In_Current_City_Years  Marital_Status  Product_Category_1  \\\n",
       "count                      550068   550068.000000       550068.000000   \n",
       "unique                          5             NaN                 NaN   \n",
       "top                             1             NaN                 NaN   \n",
       "freq                       193821             NaN                 NaN   \n",
       "mean                          NaN        0.409653            5.404270   \n",
       "std                           NaN        0.491770            3.936211   \n",
       "min                           NaN        0.000000            1.000000   \n",
       "25%                           NaN        0.000000            1.000000   \n",
       "50%                           NaN        0.000000            5.000000   \n",
       "75%                           NaN        1.000000            8.000000   \n",
       "max                           NaN        1.000000           20.000000   \n",
       "\n",
       "        Product_Category_2  Product_Category_3       Purchase  \n",
       "count        376430.000000       166821.000000  550068.000000  \n",
       "unique                 NaN                 NaN            NaN  \n",
       "top                    NaN                 NaN            NaN  \n",
       "freq                   NaN                 NaN            NaN  \n",
       "mean              9.842329           12.668243    9263.968713  \n",
       "std               5.086590            4.125338    5023.065394  \n",
       "min               2.000000            3.000000      12.000000  \n",
       "25%               5.000000            9.000000    5823.000000  \n",
       "50%               9.000000           14.000000    8047.000000  \n",
       "75%              15.000000           16.000000   12054.000000  \n",
       "max              18.000000           18.000000   23961.000000  "
      ]
     },
     "execution_count": 9,
     "metadata": {},
     "output_type": "execute_result"
    }
   ],
   "source": [
    "# statistical info \n",
    "data.describe(include=\"all\")"
   ]
  },
  {
   "cell_type": "code",
   "execution_count": 10,
   "id": "6589c6eb",
   "metadata": {
    "execution": {
     "iopub.execute_input": "2023-11-30T20:55:59.463532Z",
     "iopub.status.busy": "2023-11-30T20:55:59.463211Z",
     "iopub.status.idle": "2023-11-30T20:55:59.635049Z",
     "shell.execute_reply": "2023-11-30T20:55:59.633751Z"
    },
    "papermill": {
     "duration": 0.187154,
     "end_time": "2023-11-30T20:55:59.637593",
     "exception": false,
     "start_time": "2023-11-30T20:55:59.450439",
     "status": "completed"
    },
    "tags": []
   },
   "outputs": [
    {
     "data": {
      "text/plain": [
       "User_ID                        5891\n",
       "Product_ID                     3631\n",
       "Gender                            2\n",
       "Age                               7\n",
       "Occupation                       21\n",
       "City_Category                     3\n",
       "Stay_In_Current_City_Years        5\n",
       "Marital_Status                    2\n",
       "Product_Category_1               20\n",
       "Product_Category_2               17\n",
       "Product_Category_3               15\n",
       "Purchase                      18105\n",
       "dtype: int64"
      ]
     },
     "execution_count": 10,
     "metadata": {},
     "output_type": "execute_result"
    }
   ],
   "source": [
    "data.nunique()"
   ]
  },
  {
   "cell_type": "markdown",
   "id": "20616ed3",
   "metadata": {
    "papermill": {
     "duration": 0.069347,
     "end_time": "2023-11-30T20:55:59.719187",
     "exception": false,
     "start_time": "2023-11-30T20:55:59.649840",
     "status": "completed"
    },
    "tags": []
   },
   "source": [
    "****Exploratory Data Analysis****"
   ]
  },
  {
   "cell_type": "code",
   "execution_count": 11,
   "id": "0a7a5da1",
   "metadata": {
    "execution": {
     "iopub.execute_input": "2023-11-30T20:55:59.745476Z",
     "iopub.status.busy": "2023-11-30T20:55:59.744069Z",
     "iopub.status.idle": "2023-11-30T20:56:01.929973Z",
     "shell.execute_reply": "2023-11-30T20:56:01.928879Z"
    },
    "papermill": {
     "duration": 2.20088,
     "end_time": "2023-11-30T20:56:01.931875",
     "exception": false,
     "start_time": "2023-11-30T20:55:59.730995",
     "status": "completed"
    },
    "tags": []
   },
   "outputs": [
    {
     "data": {
      "image/png": "[encoded data removed]",
      "text/plain": [
       "<Figure size 1300x700 with 1 Axes>"
      ]
     },
     "metadata": {},
     "output_type": "display_data"
    }
   ],
   "source": [
    "# distplot for purchase\n",
    "plt.style.use('fivethirtyeight')\n",
    "plt.figure(figsize=(13, 7))\n",
    "sns.distplot(data['Purchase'], bins=25)\n",
    "plt.show()"
   ]
  },
  {
   "cell_type": "code",
   "execution_count": 12,
   "id": "db15c4d6",
   "metadata": {
    "execution": {
     "iopub.execute_input": "2023-11-30T20:56:01.959761Z",
     "iopub.status.busy": "2023-11-30T20:56:01.959103Z",
     "iopub.status.idle": "2023-11-30T20:56:02.418795Z",
     "shell.execute_reply": "2023-11-30T20:56:02.417966Z"
    },
    "papermill": {
     "duration": 0.475876,
     "end_time": "2023-11-30T20:56:02.421058",
     "exception": false,
     "start_time": "2023-11-30T20:56:01.945182",
     "status": "completed"
    },
    "tags": []
   },
   "outputs": [
    {
     "data": {
      "image/png": "[encoded data removed]",
      "text/plain": [
       "<Figure size 1800x900 with 1 Axes>"
      ]
     },
     "metadata": {},
     "output_type": "display_data"
    }
   ],
   "source": [
    "\n",
    "# Assuming df is your DataFrame\n",
    "plt.figure(figsize=(18, 9))\n",
    "sns.countplot(data, x='Gender')\n",
    "\n",
    "plt.title('Count of each Gender')\n",
    "plt.show()"
   ]
  },
  {
   "cell_type": "code",
   "execution_count": 13,
   "id": "df830fb8",
   "metadata": {
    "execution": {
     "iopub.execute_input": "2023-11-30T20:56:02.452752Z",
     "iopub.status.busy": "2023-11-30T20:56:02.452192Z",
     "iopub.status.idle": "2023-11-30T20:56:02.837499Z",
     "shell.execute_reply": "2023-11-30T20:56:02.836778Z"
    },
    "papermill": {
     "duration": 0.403051,
     "end_time": "2023-11-30T20:56:02.839973",
     "exception": false,
     "start_time": "2023-11-30T20:56:02.436922",
     "status": "completed"
    },
    "tags": []
   },
   "outputs": [
    {
     "data": {
      "image/png": "[encoded data removed]",
      "text/plain": [
       "<Figure size 640x480 with 1 Axes>"
      ]
     },
     "metadata": {},
     "output_type": "display_data"
    }
   ],
   "source": [
    "sns.countplot(data,x='Age')\n",
    "plt.show()"
   ]
  },
  {
   "cell_type": "code",
   "execution_count": 14,
   "id": "fa5ba0e2",
   "metadata": {
    "execution": {
     "iopub.execute_input": "2023-11-30T20:56:02.869975Z",
     "iopub.status.busy": "2023-11-30T20:56:02.869469Z",
     "iopub.status.idle": "2023-11-30T20:56:03.195918Z",
     "shell.execute_reply": "2023-11-30T20:56:03.194846Z"
    },
    "papermill": {
     "duration": 0.343693,
     "end_time": "2023-11-30T20:56:03.198333",
     "exception": false,
     "start_time": "2023-11-30T20:56:02.854640",
     "status": "completed"
    },
    "tags": []
   },
   "outputs": [
    {
     "data": {
      "text/plain": [
       "<Axes: xlabel='Occupation', ylabel='count'>"
      ]
     },
     "execution_count": 14,
     "metadata": {},
     "output_type": "execute_result"
    },
    {
     "data": {
      "image/png": "[encoded data removed]",
      "text/plain": [
       "<Figure size 640x480 with 1 Axes>"
      ]
     },
     "metadata": {},
     "output_type": "display_data"
    }
   ],
   "source": [
    "sns.countplot(data,x='Occupation')"
   ]
  },
  {
   "cell_type": "markdown",
   "id": "e901d01a",
   "metadata": {
    "papermill": {
     "duration": 0.017589,
     "end_time": "2023-11-30T20:56:03.230486",
     "exception": false,
     "start_time": "2023-11-30T20:56:03.212897",
     "status": "completed"
    },
    "tags": []
   },
   "source": [
    "Simple conclusion : that sns.countplot(data[feature]) works just when the feature dtype= float and with one class "
   ]
  },
  {
   "cell_type": "code",
   "execution_count": 15,
   "id": "774474d5",
   "metadata": {
    "execution": {
     "iopub.execute_input": "2023-11-30T20:56:03.267951Z",
     "iopub.status.busy": "2023-11-30T20:56:03.266850Z",
     "iopub.status.idle": "2023-11-30T20:56:03.601159Z",
     "shell.execute_reply": "2023-11-30T20:56:03.599902Z"
    },
    "papermill": {
     "duration": 0.355851,
     "end_time": "2023-11-30T20:56:03.603570",
     "exception": false,
     "start_time": "2023-11-30T20:56:03.247719",
     "status": "completed"
    },
    "tags": []
   },
   "outputs": [
    {
     "data": {
      "text/plain": [
       "<Axes: xlabel='Product_Category_1', ylabel='count'>"
      ]
     },
     "execution_count": 15,
     "metadata": {},
     "output_type": "execute_result"
    },
    {
     "data": {
      "image/png": "[encoded data removed]",
      "text/plain": [
       "<Figure size 640x480 with 1 Axes>"
      ]
     },
     "metadata": {},
     "output_type": "display_data"
    }
   ],
   "source": [
    "sns.countplot(data,x='Product_Category_1')"
   ]
  },
  {
   "cell_type": "code",
   "execution_count": 16,
   "id": "91590ab2",
   "metadata": {
    "execution": {
     "iopub.execute_input": "2023-11-30T20:56:03.634787Z",
     "iopub.status.busy": "2023-11-30T20:56:03.634423Z",
     "iopub.status.idle": "2023-11-30T20:56:03.939822Z",
     "shell.execute_reply": "2023-11-30T20:56:03.938428Z"
    },
    "papermill": {
     "duration": 0.323664,
     "end_time": "2023-11-30T20:56:03.942092",
     "exception": false,
     "start_time": "2023-11-30T20:56:03.618428",
     "status": "completed"
    },
    "tags": []
   },
   "outputs": [
    {
     "data": {
      "text/plain": [
       "<Axes: xlabel='Product_Category_2', ylabel='count'>"
      ]
     },
     "execution_count": 16,
     "metadata": {},
     "output_type": "execute_result"
    },
    {
     "data": {
      "image/png": "[encoded data removed]",
      "text/plain": [
       "<Figure size 640x480 with 1 Axes>"
      ]
     },
     "metadata": {},
     "output_type": "display_data"
    }
   ],
   "source": [
    "sns.countplot(data,x='Product_Category_2')"
   ]
  },
  {
   "cell_type": "code",
   "execution_count": 17,
   "id": "339abc01",
   "metadata": {
    "execution": {
     "iopub.execute_input": "2023-11-30T20:56:03.974353Z",
     "iopub.status.busy": "2023-11-30T20:56:03.973965Z",
     "iopub.status.idle": "2023-11-30T20:56:04.278568Z",
     "shell.execute_reply": "2023-11-30T20:56:04.277335Z"
    },
    "papermill": {
     "duration": 0.323357,
     "end_time": "2023-11-30T20:56:04.280654",
     "exception": false,
     "start_time": "2023-11-30T20:56:03.957297",
     "status": "completed"
    },
    "tags": []
   },
   "outputs": [
    {
     "data": {
      "text/plain": [
       "<Axes: xlabel='Product_Category_3', ylabel='count'>"
      ]
     },
     "execution_count": 17,
     "metadata": {},
     "output_type": "execute_result"
    },
    {
     "data": {
      "image/png": "[encoded data removed]",
      "text/plain": [
       "<Figure size 640x480 with 1 Axes>"
      ]
     },
     "metadata": {},
     "output_type": "display_data"
    }
   ],
   "source": [
    "sns.countplot(data,x='Product_Category_3')"
   ]
  },
  {
   "cell_type": "code",
   "execution_count": 18,
   "id": "6cdcf8a8",
   "metadata": {
    "execution": {
     "iopub.execute_input": "2023-11-30T20:56:04.313232Z",
     "iopub.status.busy": "2023-11-30T20:56:04.312864Z",
     "iopub.status.idle": "2023-11-30T20:56:04.680093Z",
     "shell.execute_reply": "2023-11-30T20:56:04.678904Z"
    },
    "papermill": {
     "duration": 0.385775,
     "end_time": "2023-11-30T20:56:04.682048",
     "exception": false,
     "start_time": "2023-11-30T20:56:04.296273",
     "status": "completed"
    },
    "tags": []
   },
   "outputs": [
    {
     "data": {
      "text/plain": [
       "<Axes: xlabel='City_Category', ylabel='count'>"
      ]
     },
     "execution_count": 18,
     "metadata": {},
     "output_type": "execute_result"
    },
    {
     "data": {
      "image/png": "[encoded data removed]",
      "text/plain": [
       "<Figure size 640x480 with 1 Axes>"
      ]
     },
     "metadata": {},
     "output_type": "display_data"
    }
   ],
   "source": [
    "sns.countplot(data ,x='City_Category')"
   ]
  },
  {
   "cell_type": "code",
   "execution_count": 19,
   "id": "2115b9f1",
   "metadata": {
    "execution": {
     "iopub.execute_input": "2023-11-30T20:56:04.715578Z",
     "iopub.status.busy": "2023-11-30T20:56:04.714526Z",
     "iopub.status.idle": "2023-11-30T20:56:05.073930Z",
     "shell.execute_reply": "2023-11-30T20:56:05.073047Z"
    },
    "papermill": {
     "duration": 0.378327,
     "end_time": "2023-11-30T20:56:05.075883",
     "exception": false,
     "start_time": "2023-11-30T20:56:04.697556",
     "status": "completed"
    },
    "tags": []
   },
   "outputs": [
    {
     "data": {
      "image/png": "[encoded data removed]",
      "text/plain": [
       "<Figure size 640x480 with 1 Axes>"
      ]
     },
     "metadata": {},
     "output_type": "display_data"
    }
   ],
   "source": [
    "sns.countplot(data ,x='Stay_In_Current_City_Years')\n",
    "plt.show()"
   ]
  },
  {
   "cell_type": "code",
   "execution_count": 20,
   "id": "725193e6",
   "metadata": {
    "execution": {
     "iopub.execute_input": "2023-11-30T20:56:05.110374Z",
     "iopub.status.busy": "2023-11-30T20:56:05.109285Z",
     "iopub.status.idle": "2023-11-30T20:56:05.402204Z",
     "shell.execute_reply": "2023-11-30T20:56:05.400933Z"
    },
    "papermill": {
     "duration": 0.311299,
     "end_time": "2023-11-30T20:56:05.403449",
     "exception": true,
     "start_time": "2023-11-30T20:56:05.092150",
     "status": "failed"
    },
    "tags": []
   },
   "outputs": [
    {
     "ename": "NameError",
     "evalue": "name 'occupation_plot' is not defined",
     "output_type": "error",
     "traceback": [
      "\u001b[0;31m---------------------------------------------------------------------------\u001b[0m",
      "\u001b[0;31mNameError\u001b[0m                                 Traceback (most recent call last)",
      "Cell \u001b[0;32mIn[20], line 1\u001b[0m\n\u001b[0;32m----> 1\u001b[0m \u001b[43moccupation_plot\u001b[49m\n",
      "\u001b[0;31mNameError\u001b[0m: name 'occupation_plot' is not defined"
     ]
    }
   ],
   "source": [
    "occupation_plot"
   ]
  },
  {
   "cell_type": "code",
   "execution_count": null,
   "id": "d0004414",
   "metadata": {
    "execution": {
     "iopub.execute_input": "2023-11-30T19:48:30.062387Z",
     "iopub.status.busy": "2023-11-30T19:48:30.061972Z",
     "iopub.status.idle": "2023-11-30T19:48:30.088105Z",
     "shell.execute_reply": "2023-11-30T19:48:30.087035Z",
     "shell.execute_reply.started": "2023-11-30T19:48:30.062356Z"
    },
    "papermill": {
     "duration": null,
     "end_time": null,
     "exception": null,
     "start_time": null,
     "status": "pending"
    },
    "tags": []
   },
   "outputs": [],
   "source": [
    "occupation_plot = data.pivot_table(index='Occupation', values='Purchase', aggfunc=np.mean)"
   ]
  },
  {
   "cell_type": "code",
   "execution_count": null,
   "id": "ec09f5b0",
   "metadata": {
    "execution": {
     "iopub.execute_input": "2023-11-30T19:48:52.178730Z",
     "iopub.status.busy": "2023-11-30T19:48:52.178325Z",
     "iopub.status.idle": "2023-11-30T19:48:52.678288Z",
     "shell.execute_reply": "2023-11-30T19:48:52.677169Z",
     "shell.execute_reply.started": "2023-11-30T19:48:52.178698Z"
    },
    "papermill": {
     "duration": null,
     "end_time": null,
     "exception": null,
     "start_time": null,
     "status": "pending"
    },
    "tags": []
   },
   "outputs": [],
   "source": [
    "occupation_plot.plot(kind='bar', figsize=(13, 7))"
   ]
  },
  {
   "cell_type": "code",
   "execution_count": null,
   "id": "d7553299",
   "metadata": {
    "execution": {
     "iopub.execute_input": "2023-11-30T19:48:03.698255Z",
     "iopub.status.busy": "2023-11-30T19:48:03.697821Z",
     "iopub.status.idle": "2023-11-30T19:48:04.198714Z",
     "shell.execute_reply": "2023-11-30T19:48:04.197815Z",
     "shell.execute_reply.started": "2023-11-30T19:48:03.698207Z"
    },
    "papermill": {
     "duration": null,
     "end_time": null,
     "exception": null,
     "start_time": null,
     "status": "pending"
    },
    "tags": []
   },
   "outputs": [],
   "source": [
    "# bivariate analysis\n",
    "\n",
    "\n",
    "plt.xlabel('Occupation')\n",
    "plt.ylabel(\"Purchase\")\n",
    "plt.title(\"Occupation and Purchase Analysis\")\n",
    "plt.xticks(rotation=0)\n",
    "plt.show()"
   ]
  },
  {
   "cell_type": "code",
   "execution_count": null,
   "id": "c4f7553f",
   "metadata": {
    "execution": {
     "iopub.execute_input": "2023-11-30T19:50:47.571268Z",
     "iopub.status.busy": "2023-11-30T19:50:47.570834Z",
     "iopub.status.idle": "2023-11-30T19:50:47.986790Z",
     "shell.execute_reply": "2023-11-30T19:50:47.985524Z",
     "shell.execute_reply.started": "2023-11-30T19:50:47.571236Z"
    },
    "papermill": {
     "duration": null,
     "end_time": null,
     "exception": null,
     "start_time": null,
     "status": "pending"
    },
    "tags": []
   },
   "outputs": [],
   "source": [
    "age_plot = data.pivot_table(index='Age', values='Purchase', aggfunc=np.mean)\n",
    "age_plot.plot(kind='bar', figsize=(13, 7))\n",
    "plt.xlabel('Age')\n",
    "plt.ylabel(\"Purchase\")\n",
    "plt.title(\"Age and Purchase Analysis\")\n",
    "plt.xticks(rotation=0)\n",
    "plt.show()"
   ]
  },
  {
   "cell_type": "code",
   "execution_count": null,
   "id": "deb282d4",
   "metadata": {
    "execution": {
     "iopub.execute_input": "2023-11-30T19:51:34.208062Z",
     "iopub.status.busy": "2023-11-30T19:51:34.207627Z",
     "iopub.status.idle": "2023-11-30T19:51:35.346370Z",
     "shell.execute_reply": "2023-11-30T19:51:35.345251Z",
     "shell.execute_reply.started": "2023-11-30T19:51:34.208026Z"
    },
    "papermill": {
     "duration": null,
     "end_time": null,
     "exception": null,
     "start_time": null,
     "status": "pending"
    },
    "tags": []
   },
   "outputs": [],
   "source": [
    "fig,axes = plt.subplots(nrows=3,ncols=2,figsize=(16, 12))\n"
   ]
  },
  {
   "cell_type": "code",
   "execution_count": null,
   "id": "9372663f",
   "metadata": {
    "execution": {
     "iopub.execute_input": "2023-11-30T19:50:53.587937Z",
     "iopub.status.busy": "2023-11-30T19:50:53.587531Z",
     "iopub.status.idle": "2023-11-30T19:50:57.064742Z",
     "shell.execute_reply": "2023-11-30T19:50:57.063596Z",
     "shell.execute_reply.started": "2023-11-30T19:50:53.587907Z"
    },
    "papermill": {
     "duration": null,
     "end_time": null,
     "exception": null,
     "start_time": null,
     "status": "pending"
    },
    "tags": []
   },
   "outputs": [],
   "source": [
    "columns = ['Gender', 'Age', 'Occupation', 'City_Category','Stay_In_Current_City_Years', 'Marital_Status','Purchase']\n",
    "fig,axes = plt.subplots(nrows=3,ncols=2,figsize=(16, 12))\n",
    "sns.countplot(data=data,x='Gender',ax=axes[0,0])\n",
    "sns.countplot(data=data,x='Age',ax=axes[0,1])\n",
    "sns.countplot(data=data,x='Occupation',ax=axes[1,0])\n",
    "sns.countplot(data=data,x='City_Category',ax=axes[1,1])\n",
    "sns.countplot(data=data,x='Stay_In_Current_City_Years',ax=axes[2,0])\n",
    "sns.countplot(data=data,x='Marital_Status',ax=axes[2,1])\n",
    "plt.show()"
   ]
  },
  {
   "cell_type": "markdown",
   "id": "bbd6379b",
   "metadata": {
    "papermill": {
     "duration": null,
     "end_time": null,
     "exception": null,
     "start_time": null,
     "status": "pending"
    },
    "tags": []
   },
   "source": [
    "As we can see that on this few observation highest sale from the age group between 26-35,"
   ]
  },
  {
   "cell_type": "markdown",
   "id": "39a537fd",
   "metadata": {
    "papermill": {
     "duration": null,
     "end_time": null,
     "exception": null,
     "start_time": null,
     "status": "pending"
    },
    "tags": []
   },
   "source": [
    "****correlation****"
   ]
  },
  {
   "cell_type": "code",
   "execution_count": null,
   "id": "b1f22a5d",
   "metadata": {
    "execution": {
     "iopub.execute_input": "2023-11-30T19:52:41.499307Z",
     "iopub.status.busy": "2023-11-30T19:52:41.498880Z",
     "iopub.status.idle": "2023-11-30T19:52:41.608790Z",
     "shell.execute_reply": "2023-11-30T19:52:41.607093Z",
     "shell.execute_reply.started": "2023-11-30T19:52:41.499273Z"
    },
    "papermill": {
     "duration": null,
     "end_time": null,
     "exception": null,
     "start_time": null,
     "status": "pending"
    },
    "tags": []
   },
   "outputs": [],
   "source": [
    "corr = data.corr()\n",
    "plt.figure(figsize=(14,7))\n",
    "sns.heatmap(corr, annot=True, cmap='coolwarm')"
   ]
  },
  {
   "cell_type": "markdown",
   "id": "cabced57",
   "metadata": {
    "papermill": {
     "duration": null,
     "end_time": null,
     "exception": null,
     "start_time": null,
     "status": "pending"
    },
    "tags": []
   },
   "source": []
  },
  {
   "cell_type": "markdown",
   "id": "cfb32e97",
   "metadata": {
    "papermill": {
     "duration": null,
     "end_time": null,
     "exception": null,
     "start_time": null,
     "status": "pending"
    },
    "tags": []
   },
   "source": [
    "Pandas is designed to calculate the correlation between numeric columns : u remember this ?"
   ]
  },
  {
   "cell_type": "code",
   "execution_count": null,
   "id": "8e4340f9",
   "metadata": {
    "execution": {
     "iopub.execute_input": "2023-11-30T19:57:58.993182Z",
     "iopub.status.busy": "2023-11-30T19:57:58.992446Z",
     "iopub.status.idle": "2023-11-30T19:57:59.288717Z",
     "shell.execute_reply": "2023-11-30T19:57:59.287402Z",
     "shell.execute_reply.started": "2023-11-30T19:57:58.993146Z"
    },
    "papermill": {
     "duration": null,
     "end_time": null,
     "exception": null,
     "start_time": null,
     "status": "pending"
    },
    "tags": []
   },
   "outputs": [],
   "source": [
    "# check for null values\n",
    "data.isnull().sum()"
   ]
  },
  {
   "cell_type": "code",
   "execution_count": null,
   "id": "fa4d6908",
   "metadata": {
    "execution": {
     "iopub.execute_input": "2023-11-30T19:58:40.115100Z",
     "iopub.status.busy": "2023-11-30T19:58:40.114721Z",
     "iopub.status.idle": "2023-11-30T19:58:40.122889Z",
     "shell.execute_reply": "2023-11-30T19:58:40.121690Z",
     "shell.execute_reply.started": "2023-11-30T19:58:40.115071Z"
    },
    "papermill": {
     "duration": null,
     "end_time": null,
     "exception": null,
     "start_time": null,
     "status": "pending"
    },
    "tags": []
   },
   "outputs": [],
   "source": [
    "data['Product_Category_2' ].count()"
   ]
  },
  {
   "cell_type": "code",
   "execution_count": null,
   "id": "b09b6dc1",
   "metadata": {
    "execution": {
     "iopub.execute_input": "2023-11-30T20:11:53.997518Z",
     "iopub.status.busy": "2023-11-30T20:11:53.997091Z",
     "iopub.status.idle": "2023-11-30T20:11:54.006158Z",
     "shell.execute_reply": "2023-11-30T20:11:54.005335Z",
     "shell.execute_reply.started": "2023-11-30T20:11:53.997487Z"
    },
    "papermill": {
     "duration": null,
     "end_time": null,
     "exception": null,
     "start_time": null,
     "status": "pending"
    },
    "tags": []
   },
   "outputs": [],
   "source": [
    "data['Product_Category_1']"
   ]
  },
  {
   "cell_type": "code",
   "execution_count": null,
   "id": "9723796e",
   "metadata": {
    "execution": {
     "iopub.execute_input": "2023-11-30T20:12:23.556721Z",
     "iopub.status.busy": "2023-11-30T20:12:23.556285Z",
     "iopub.status.idle": "2023-11-30T20:12:23.851382Z",
     "shell.execute_reply": "2023-11-30T20:12:23.850198Z",
     "shell.execute_reply.started": "2023-11-30T20:12:23.556687Z"
    },
    "papermill": {
     "duration": null,
     "end_time": null,
     "exception": null,
     "start_time": null,
     "status": "pending"
    },
    "tags": []
   },
   "outputs": [],
   "source": [
    "data.isnull().sum()/len(data)*100 # misssing values per  percent "
   ]
  },
  {
   "cell_type": "code",
   "execution_count": null,
   "id": "62e68ce7",
   "metadata": {
    "execution": {
     "iopub.execute_input": "2023-11-30T20:12:30.608413Z",
     "iopub.status.busy": "2023-11-30T20:12:30.607976Z",
     "iopub.status.idle": "2023-11-30T20:12:30.626877Z",
     "shell.execute_reply": "2023-11-30T20:12:30.625654Z",
     "shell.execute_reply.started": "2023-11-30T20:12:30.608381Z"
    },
    "papermill": {
     "duration": null,
     "end_time": null,
     "exception": null,
     "start_time": null,
     "status": "pending"
    },
    "tags": []
   },
   "outputs": [],
   "source": [
    "data['Product_Category_3'].mode()[0]"
   ]
  },
  {
   "cell_type": "code",
   "execution_count": null,
   "id": "87b674ec",
   "metadata": {
    "execution": {
     "iopub.execute_input": "2023-11-30T20:06:24.315643Z",
     "iopub.status.busy": "2023-11-30T20:06:24.315266Z",
     "iopub.status.idle": "2023-11-30T20:06:24.333159Z",
     "shell.execute_reply": "2023-11-30T20:06:24.331987Z",
     "shell.execute_reply.started": "2023-11-30T20:06:24.315614Z"
    },
    "papermill": {
     "duration": null,
     "end_time": null,
     "exception": null,
     "start_time": null,
     "status": "pending"
    },
    "tags": []
   },
   "outputs": [],
   "source": [
    "data['Product_Category_2'].mode()[0]"
   ]
  },
  {
   "cell_type": "code",
   "execution_count": null,
   "id": "fc21c8d2",
   "metadata": {
    "execution": {
     "iopub.execute_input": "2023-11-30T20:10:45.528377Z",
     "iopub.status.busy": "2023-11-30T20:10:45.527973Z",
     "iopub.status.idle": "2023-11-30T20:10:45.545915Z",
     "shell.execute_reply": "2023-11-30T20:10:45.544898Z",
     "shell.execute_reply.started": "2023-11-30T20:10:45.528346Z"
    },
    "papermill": {
     "duration": null,
     "end_time": null,
     "exception": null,
     "start_time": null,
     "status": "pending"
    },
    "tags": []
   },
   "outputs": [],
   "source": [
    "#Here Product_category 3 has null percent approx equal to 70 we can drop it or impute it with mode values\n",
    "\n",
    "#df.drop(['Product_Category_3'],axis=1,inplace=True)\n",
    "data['Product_Category_3']=data['Product_Category_3'].fillna(data['Product_Category_3'].mode()[0])"
   ]
  },
  {
   "cell_type": "code",
   "execution_count": null,
   "id": "f3ea0ad3",
   "metadata": {
    "execution": {
     "iopub.execute_input": "2023-11-30T20:10:47.989979Z",
     "iopub.status.busy": "2023-11-30T20:10:47.989597Z",
     "iopub.status.idle": "2023-11-30T20:10:48.011221Z",
     "shell.execute_reply": "2023-11-30T20:10:48.010107Z",
     "shell.execute_reply.started": "2023-11-30T20:10:47.989950Z"
    },
    "papermill": {
     "duration": null,
     "end_time": null,
     "exception": null,
     "start_time": null,
     "status": "pending"
    },
    "tags": []
   },
   "outputs": [],
   "source": [
    "#Imputing values for Product_category 2 using mode.\n",
    "\n",
    "data['Product_Category_2']=data['Product_Category_2'].fillna(data['Product_Category_2'].mode()[0])"
   ]
  },
  {
   "cell_type": "code",
   "execution_count": null,
   "id": "8ed8be44",
   "metadata": {
    "execution": {
     "iopub.execute_input": "2023-11-30T20:10:50.665924Z",
     "iopub.status.busy": "2023-11-30T20:10:50.664826Z",
     "iopub.status.idle": "2023-11-30T20:10:50.960671Z",
     "shell.execute_reply": "2023-11-30T20:10:50.959545Z",
     "shell.execute_reply.started": "2023-11-30T20:10:50.665888Z"
    },
    "papermill": {
     "duration": null,
     "end_time": null,
     "exception": null,
     "start_time": null,
     "status": "pending"
    },
    "tags": []
   },
   "outputs": [],
   "source": [
    "#showing data after imputation\n",
    "data.isnull().sum()/len(data)*100"
   ]
  },
  {
   "cell_type": "markdown",
   "id": "527faf2b",
   "metadata": {
    "papermill": {
     "duration": null,
     "end_time": null,
     "exception": null,
     "start_time": null,
     "status": "pending"
    },
    "tags": []
   },
   "source": [
    "#Finding and Treating Outliers"
   ]
  },
  {
   "cell_type": "code",
   "execution_count": null,
   "id": "8e3a6cb4",
   "metadata": {
    "execution": {
     "iopub.execute_input": "2023-11-30T20:12:37.347501Z",
     "iopub.status.busy": "2023-11-30T20:12:37.347086Z",
     "iopub.status.idle": "2023-11-30T20:12:37.353168Z",
     "shell.execute_reply": "2023-11-30T20:12:37.351957Z",
     "shell.execute_reply.started": "2023-11-30T20:12:37.347469Z"
    },
    "papermill": {
     "duration": null,
     "end_time": null,
     "exception": null,
     "start_time": null,
     "status": "pending"
    },
    "tags": []
   },
   "outputs": [],
   "source": [
    "out_cols=['Occupation','Product_Category_1','Purchase']"
   ]
  },
  {
   "cell_type": "code",
   "execution_count": null,
   "id": "1af5799e",
   "metadata": {
    "execution": {
     "iopub.execute_input": "2023-11-30T20:18:04.923500Z",
     "iopub.status.busy": "2023-11-30T20:18:04.923046Z",
     "iopub.status.idle": "2023-11-30T20:18:04.930894Z",
     "shell.execute_reply": "2023-11-30T20:18:04.929728Z",
     "shell.execute_reply.started": "2023-11-30T20:18:04.923468Z"
    },
    "papermill": {
     "duration": null,
     "end_time": null,
     "exception": null,
     "start_time": null,
     "status": "pending"
    },
    "tags": []
   },
   "outputs": [],
   "source": [
    "def find_outliers(data):\n",
    "    q1=data.quantile(0.25)\n",
    "    q3=data.quantile(0.75)\n",
    "    IQR=q3-q1\n",
    "    LL = q1 - (1.5 * IQR)\n",
    "    UL = q3 + (1.5 * IQR)\n",
    "    #outliers = data[((data<(q1-1.5*IQR)) | (data>(q3+1.5*IQR)))]\n",
    "    ul_count=data[data>UL].shape[0]\n",
    "    ll_count=data[data<LL].shape[0]\n",
    "    outlier_count = ul_count + ll_count\n",
    "    outlier_perc=(outlier_count/len(data))*100\n",
    "    return outlier_perc"
   ]
  },
  {
   "cell_type": "code",
   "execution_count": null,
   "id": "3a19a25e",
   "metadata": {
    "execution": {
     "iopub.execute_input": "2023-11-30T20:19:54.251567Z",
     "iopub.status.busy": "2023-11-30T20:19:54.251130Z",
     "iopub.status.idle": "2023-11-30T20:19:54.314038Z",
     "shell.execute_reply": "2023-11-30T20:19:54.312862Z",
     "shell.execute_reply.started": "2023-11-30T20:19:54.251536Z"
    },
    "papermill": {
     "duration": null,
     "end_time": null,
     "exception": null,
     "start_time": null,
     "status": "pending"
    },
    "tags": []
   },
   "outputs": [],
   "source": [
    "outlier_list=[]\n",
    "res=0\n",
    "for col in out_cols:\n",
    "    val=data[col]\n",
    "    res=find_outliers(val)\n",
    "    outlier_list.append([col,res])\n",
    "print(outlier_list)"
   ]
  },
  {
   "cell_type": "code",
   "execution_count": null,
   "id": "f9ffcd63",
   "metadata": {
    "execution": {
     "iopub.execute_input": "2023-11-30T20:20:32.419197Z",
     "iopub.status.busy": "2023-11-30T20:20:32.418801Z",
     "iopub.status.idle": "2023-11-30T20:20:32.452937Z",
     "shell.execute_reply": "2023-11-30T20:20:32.452013Z",
     "shell.execute_reply.started": "2023-11-30T20:20:32.419165Z"
    },
    "papermill": {
     "duration": null,
     "end_time": null,
     "exception": null,
     "start_time": null,
     "status": "pending"
    },
    "tags": []
   },
   "outputs": [],
   "source": [
    "# Removing the outlier for purchase column\n",
    "q1=data['Purchase'].quantile(0.25)\n",
    "q3=data['Purchase'].quantile(0.75)\n",
    "iqr=q3-q1\n",
    "UL=q3+1.5*iqr\n",
    "LL=q1-1.5*iqr\n",
    "data.loc[data['Purchase']>UL,col]=UL\n",
    "data.loc[data['Purchase']<LL,col]=LL"
   ]
  },
  {
   "cell_type": "code",
   "execution_count": null,
   "id": "6052333b",
   "metadata": {
    "execution": {
     "iopub.execute_input": "2023-11-30T20:20:35.960067Z",
     "iopub.status.busy": "2023-11-30T20:20:35.959674Z",
     "iopub.status.idle": "2023-11-30T20:20:36.553966Z",
     "shell.execute_reply": "2023-11-30T20:20:36.553015Z",
     "shell.execute_reply.started": "2023-11-30T20:20:35.960037Z"
    },
    "papermill": {
     "duration": null,
     "end_time": null,
     "exception": null,
     "start_time": null,
     "status": "pending"
    },
    "tags": []
   },
   "outputs": [],
   "source": [
    "plt.figure(figsize=(5,4))\n",
    "sns.boxplot(data=data,x=data['Purchase'])"
   ]
  },
  {
   "cell_type": "code",
   "execution_count": null,
   "id": "457a0fae",
   "metadata": {
    "papermill": {
     "duration": null,
     "end_time": null,
     "exception": null,
     "start_time": null,
     "status": "pending"
    },
    "tags": []
   },
   "outputs": [],
   "source": [
    "#onehotencoder "
   ]
  },
  {
   "cell_type": "code",
   "execution_count": null,
   "id": "a47f56e5",
   "metadata": {
    "execution": {
     "iopub.execute_input": "2023-11-30T20:31:16.573166Z",
     "iopub.status.busy": "2023-11-30T20:31:16.572752Z",
     "iopub.status.idle": "2023-11-30T20:31:16.640444Z",
     "shell.execute_reply": "2023-11-30T20:31:16.639397Z",
     "shell.execute_reply.started": "2023-11-30T20:31:16.573135Z"
    },
    "papermill": {
     "duration": null,
     "end_time": null,
     "exception": null,
     "start_time": null,
     "status": "pending"
    },
    "tags": []
   },
   "outputs": [],
   "source": [
    "df=pd.get_dummies(data['City_Category'])"
   ]
  },
  {
   "cell_type": "code",
   "execution_count": null,
   "id": "f2096288",
   "metadata": {
    "execution": {
     "iopub.execute_input": "2023-11-30T20:31:36.179406Z",
     "iopub.status.busy": "2023-11-30T20:31:36.179000Z",
     "iopub.status.idle": "2023-11-30T20:31:36.193900Z",
     "shell.execute_reply": "2023-11-30T20:31:36.192683Z",
     "shell.execute_reply.started": "2023-11-30T20:31:36.179377Z"
    },
    "papermill": {
     "duration": null,
     "end_time": null,
     "exception": null,
     "start_time": null,
     "status": "pending"
    },
    "tags": []
   },
   "outputs": [],
   "source": [
    "df"
   ]
  },
  {
   "cell_type": "code",
   "execution_count": null,
   "id": "1599056e",
   "metadata": {
    "papermill": {
     "duration": null,
     "end_time": null,
     "exception": null,
     "start_time": null,
     "status": "pending"
    },
    "tags": []
   },
   "outputs": [],
   "source": [
    "#from sklearn.preprocessing import LabelEncoder, OneHotEncoder"
   ]
  },
  {
   "cell_type": "code",
   "execution_count": null,
   "id": "497fe434",
   "metadata": {
    "execution": {
     "iopub.execute_input": "2023-11-30T20:32:26.966853Z",
     "iopub.status.busy": "2023-11-30T20:32:26.966448Z",
     "iopub.status.idle": "2023-11-30T20:32:42.145093Z",
     "shell.execute_reply": "2023-11-30T20:32:42.143838Z",
     "shell.execute_reply.started": "2023-11-30T20:32:26.966823Z"
    },
    "papermill": {
     "duration": null,
     "end_time": null,
     "exception": null,
     "start_time": null,
     "status": "pending"
    },
    "tags": []
   },
   "outputs": [],
   "source": [
    "data = pd.get_dummies(data)\n",
    "data.head()"
   ]
  },
  {
   "cell_type": "code",
   "execution_count": null,
   "id": "c92b36bc",
   "metadata": {
    "papermill": {
     "duration": null,
     "end_time": null,
     "exception": null,
     "start_time": null,
     "status": "pending"
    },
    "tags": []
   },
   "outputs": [],
   "source": [
    "#scaler"
   ]
  },
  {
   "cell_type": "code",
   "execution_count": null,
   "id": "ef62e42b",
   "metadata": {
    "execution": {
     "iopub.execute_input": "2023-11-30T20:44:53.012337Z",
     "iopub.status.busy": "2023-11-30T20:44:53.011923Z",
     "iopub.status.idle": "2023-11-30T20:44:53.096477Z",
     "shell.execute_reply": "2023-11-30T20:44:53.095500Z",
     "shell.execute_reply.started": "2023-11-30T20:44:53.012306Z"
    },
    "papermill": {
     "duration": null,
     "end_time": null,
     "exception": null,
     "start_time": null,
     "status": "pending"
    },
    "tags": []
   },
   "outputs": [],
   "source": [
    "from sklearn.preprocessing import StandardScaler , Normalizer"
   ]
  },
  {
   "cell_type": "code",
   "execution_count": null,
   "id": "93d8753b",
   "metadata": {
    "execution": {
     "iopub.execute_input": "2023-11-30T20:45:02.720896Z",
     "iopub.status.busy": "2023-11-30T20:45:02.720476Z",
     "iopub.status.idle": "2023-11-30T20:45:02.726302Z",
     "shell.execute_reply": "2023-11-30T20:45:02.725191Z",
     "shell.execute_reply.started": "2023-11-30T20:45:02.720863Z"
    },
    "papermill": {
     "duration": null,
     "end_time": null,
     "exception": null,
     "start_time": null,
     "status": "pending"
    },
    "tags": []
   },
   "outputs": [],
   "source": [
    "scaler = StandardScaler()"
   ]
  },
  {
   "cell_type": "code",
   "execution_count": null,
   "id": "3cc3ad56",
   "metadata": {
    "execution": {
     "iopub.execute_input": "2023-11-30T20:45:23.803157Z",
     "iopub.status.busy": "2023-11-30T20:45:23.802700Z"
    },
    "papermill": {
     "duration": null,
     "end_time": null,
     "exception": null,
     "start_time": null,
     "status": "pending"
    },
    "tags": []
   },
   "outputs": [],
   "source": [
    "data_scaled= pd.DataFrame(scaler.fit_transform(data),columns=[data.columns])"
   ]
  },
  {
   "cell_type": "code",
   "execution_count": null,
   "id": "eb9c40c6",
   "metadata": {
    "papermill": {
     "duration": null,
     "end_time": null,
     "exception": null,
     "start_time": null,
     "status": "pending"
    },
    "tags": []
   },
   "outputs": [],
   "source": [
    "#data_scaled"
   ]
  },
  {
   "cell_type": "markdown",
   "id": "f8377ef7",
   "metadata": {
    "papermill": {
     "duration": null,
     "end_time": null,
     "exception": null,
     "start_time": null,
     "status": "pending"
    },
    "tags": []
   },
   "source": []
  }
 ],
 "metadata": {
  "kaggle": {
   "accelerator": "none",
   "dataSources": [
    {
     "datasetId": 333812,
     "sourceId": 665045,
     "sourceType": "datasetVersion"
    }
   ],
   "dockerImageVersionId": 30587,
   "isGpuEnabled": false,
   "isInternetEnabled": false,
   "language": "python",
   "sourceType": "notebook"
  },
  "kernelspec": {
   "display_name": "Python 3",
   "language": "python",
   "name": "python3"
  },
  "language_info": {
   "codemirror_mode": {
    "name": "ipython",
    "version": 3
   },
   "file_extension": ".py",
   "mimetype": "text/x-python",
   "name": "python",
   "nbconvert_exporter": "python",
   "pygments_lexer": "ipython3",
   "version": "3.10.12"
  },
  "papermill": {
   "default_parameters": {},
   "duration": 12.475121,
   "end_time": "2023-11-30T20:56:06.042016",
   "environment_variables": {},
   "exception": true,
   "input_path": "__notebook__.ipynb",
   "output_path": "__notebook__.ipynb",
   "parameters": {},
   "start_time": "2023-11-30T20:55:53.566895",
   "version": "2.4.0"
  }
 },
 "nbformat": 4,
 "nbformat_minor": 5
}
